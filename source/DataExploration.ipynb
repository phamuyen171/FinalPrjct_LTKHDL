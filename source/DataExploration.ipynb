{
 "cells": [
  {
   "cell_type": "markdown",
   "metadata": {},
   "source": [
    "# Data Exploration Task"
   ]
  },
  {
   "cell_type": "markdown",
   "metadata": {},
   "source": [
    "# Mục lục\n",
    "[1. Import](#i-ip)\n",
    "\n",
    "[2. Data Exploration](#ii-de)\n",
    "  - [2.1 Đọc dữ liệu từ file](#ddltf)\n",
    "  - [2.2 Khám phá dữ liệu](#kpdl)\n",
    "    - [Dữ liệu có bao nhiêu dòng bao nhiêu cột?](#q1)\n",
    "    - [Ý nghĩa của từng dòng trong tập dữ liệu?](#q2)\n",
    "    - [Có dòng nào bị trùng lặp hay không?](#q3)\n",
    "    - [Từng cột trong tập dữ liệu có ý nghĩa gì?](#q4)\n",
    "    - [Kiểu dữ liệu của từng cột là gì? Có cột nào có kiểu dữ liệu không phù hợp không?](#q5)\n",
    "    - [Đối với các cột số, tỷ lệ phần trăm giá trị thiếu bằng bao nhiêu? Giá trị lớn nhất và nhỏ nhất là? ](#q6)\n",
    "    - [Đối với các cột category, tỷ lệ phần trăm giá trị thiếu bằng bao nhiêu? Liệt kê giá trị mẫu, có giá trị nào bất thường hay không?](#q7)\n",
    "    \n",
    "[3. Hoàn tất tiền xử lý và khám phá dữ liệu, lưu lại dữ liệu đã qua xử lý thành file .csv](#stf)\n",
    "    "
   ]
  },
  {
   "cell_type": "markdown",
   "metadata": {},
   "source": [
    "## **1. Import** <a id=\"i-ip\"></a>"
   ]
  },
  {
   "cell_type": "code",
   "execution_count": 1,
   "metadata": {},
   "outputs": [],
   "source": [
    "import pandas as pd\n",
    "import numpy as np \n",
    "import os\n",
    "import matplotlib.pyplot as plt\n",
    "import seaborn as sns\n",
    "\n",
    "import warnings\n",
    "warnings.filterwarnings(\"ignore\")"
   ]
  },
  {
   "cell_type": "markdown",
   "metadata": {},
   "source": [
    "## **2. Data exploration** <a id=\"ii-de\"></a>"
   ]
  },
  {
   "cell_type": "markdown",
   "metadata": {},
   "source": [
    "### *2.1 Đọc dữ liệu từ file* <a id=\"ddltf\"></a>"
   ]
  },
  {
   "cell_type": "code",
   "execution_count": 2,
   "metadata": {},
   "outputs": [
    {
     "data": {
      "text/html": [
       "<div>\n",
       "<style scoped>\n",
       "    .dataframe tbody tr th:only-of-type {\n",
       "        vertical-align: middle;\n",
       "    }\n",
       "\n",
       "    .dataframe tbody tr th {\n",
       "        vertical-align: top;\n",
       "    }\n",
       "\n",
       "    .dataframe thead th {\n",
       "        text-align: right;\n",
       "    }\n",
       "</style>\n",
       "<table border=\"1\" class=\"dataframe\">\n",
       "  <thead>\n",
       "    <tr style=\"text-align: right;\">\n",
       "      <th></th>\n",
       "      <th>partner</th>\n",
       "      <th>course</th>\n",
       "      <th>skills</th>\n",
       "      <th>rating</th>\n",
       "      <th>reviewcount</th>\n",
       "      <th>level</th>\n",
       "      <th>certificatetype</th>\n",
       "      <th>duration</th>\n",
       "      <th>crediteligibility</th>\n",
       "    </tr>\n",
       "  </thead>\n",
       "  <tbody>\n",
       "    <tr>\n",
       "      <th>0</th>\n",
       "      <td>Google</td>\n",
       "      <td>Google Cybersecurity</td>\n",
       "      <td>{\" Network Security\",\" Python Programming\",\" L...</td>\n",
       "      <td>4.8</td>\n",
       "      <td>16.4k</td>\n",
       "      <td>Beginner</td>\n",
       "      <td>Professional Certificate</td>\n",
       "      <td>3 - 6 Months</td>\n",
       "      <td>False</td>\n",
       "    </tr>\n",
       "    <tr>\n",
       "      <th>1</th>\n",
       "      <td>Google</td>\n",
       "      <td>Google Data Analytics</td>\n",
       "      <td>{\" Data Analysis\",\" R Programming\",\" SQL\",\" Bu...</td>\n",
       "      <td>4.8</td>\n",
       "      <td>133.4k</td>\n",
       "      <td>Beginner</td>\n",
       "      <td>Professional Certificate</td>\n",
       "      <td>3 - 6 Months</td>\n",
       "      <td>True</td>\n",
       "    </tr>\n",
       "    <tr>\n",
       "      <th>2</th>\n",
       "      <td>Google</td>\n",
       "      <td>Google Project Management:</td>\n",
       "      <td>{\" Project Management\",\" Strategy and Operatio...</td>\n",
       "      <td>4.8</td>\n",
       "      <td>97.3k</td>\n",
       "      <td>Beginner</td>\n",
       "      <td>Professional Certificate</td>\n",
       "      <td>3 - 6 Months</td>\n",
       "      <td>True</td>\n",
       "    </tr>\n",
       "    <tr>\n",
       "      <th>3</th>\n",
       "      <td>Google</td>\n",
       "      <td>Google Digital Marketing &amp; E-commerce</td>\n",
       "      <td>{\" Digital Marketing\",\" Marketing\",\" Marketing...</td>\n",
       "      <td>4.8</td>\n",
       "      <td>21.4k</td>\n",
       "      <td>Beginner</td>\n",
       "      <td>Professional Certificate</td>\n",
       "      <td>3 - 6 Months</td>\n",
       "      <td>False</td>\n",
       "    </tr>\n",
       "    <tr>\n",
       "      <th>4</th>\n",
       "      <td>Google</td>\n",
       "      <td>Google IT Support</td>\n",
       "      <td>{\" Computer Networking\",\" Network Architecture...</td>\n",
       "      <td>4.8</td>\n",
       "      <td>181.4k</td>\n",
       "      <td>Beginner</td>\n",
       "      <td>Professional Certificate</td>\n",
       "      <td>3 - 6 Months</td>\n",
       "      <td>True</td>\n",
       "    </tr>\n",
       "    <tr>\n",
       "      <th>...</th>\n",
       "      <td>...</td>\n",
       "      <td>...</td>\n",
       "      <td>...</td>\n",
       "      <td>...</td>\n",
       "      <td>...</td>\n",
       "      <td>...</td>\n",
       "      <td>...</td>\n",
       "      <td>...</td>\n",
       "      <td>...</td>\n",
       "    </tr>\n",
       "    <tr>\n",
       "      <th>1134</th>\n",
       "      <td>IIT Guwahati</td>\n",
       "      <td>Post Graduate Certificate in Cloud Computing A...</td>\n",
       "      <td>NaN</td>\n",
       "      <td>NaN</td>\n",
       "      <td>NaN</td>\n",
       "      <td>NaN</td>\n",
       "      <td>University Certificate</td>\n",
       "      <td>6 - 12 Months</td>\n",
       "      <td>False</td>\n",
       "    </tr>\n",
       "    <tr>\n",
       "      <th>1135</th>\n",
       "      <td>IE Business School</td>\n",
       "      <td>Business Essentials University Certificate</td>\n",
       "      <td>{\" Strategy and Operations\",\" Leadership and M...</td>\n",
       "      <td>NaN</td>\n",
       "      <td>NaN</td>\n",
       "      <td>NaN</td>\n",
       "      <td>University Certificate</td>\n",
       "      <td>6 - 12 Months</td>\n",
       "      <td>False</td>\n",
       "    </tr>\n",
       "    <tr>\n",
       "      <th>1136</th>\n",
       "      <td>IIT Roorkee</td>\n",
       "      <td>Post Graduate Certificate in Strategic Supply ...</td>\n",
       "      <td>{\" Machine Learning\",\" Python Programming\",\" R...</td>\n",
       "      <td>NaN</td>\n",
       "      <td>NaN</td>\n",
       "      <td>NaN</td>\n",
       "      <td>University Certificate</td>\n",
       "      <td>6 - 12 Months</td>\n",
       "      <td>False</td>\n",
       "    </tr>\n",
       "    <tr>\n",
       "      <th>1137</th>\n",
       "      <td>IIT Bombay</td>\n",
       "      <td>Power Electronics and Motors for Electric Vehi...</td>\n",
       "      <td>NaN</td>\n",
       "      <td>NaN</td>\n",
       "      <td>NaN</td>\n",
       "      <td>NaN</td>\n",
       "      <td>University Certificate</td>\n",
       "      <td>6 - 12 Months</td>\n",
       "      <td>False</td>\n",
       "    </tr>\n",
       "    <tr>\n",
       "      <th>1138</th>\n",
       "      <td>University of Illinois</td>\n",
       "      <td>Entrepreneurship and Strategic Innovation Grad...</td>\n",
       "      <td>{\" Accounting\",\" Finance\",\" General Statistics...</td>\n",
       "      <td>NaN</td>\n",
       "      <td>NaN</td>\n",
       "      <td>NaN</td>\n",
       "      <td>Graduate Certificate</td>\n",
       "      <td>6 - 12 Months</td>\n",
       "      <td>True</td>\n",
       "    </tr>\n",
       "  </tbody>\n",
       "</table>\n",
       "<p>1139 rows × 9 columns</p>\n",
       "</div>"
      ],
      "text/plain": [
       "                     partner  \\\n",
       "0                     Google   \n",
       "1                     Google   \n",
       "2                     Google   \n",
       "3                     Google   \n",
       "4                     Google   \n",
       "...                      ...   \n",
       "1134            IIT Guwahati   \n",
       "1135      IE Business School   \n",
       "1136             IIT Roorkee   \n",
       "1137              IIT Bombay   \n",
       "1138  University of Illinois   \n",
       "\n",
       "                                                 course  \\\n",
       "0                                  Google Cybersecurity   \n",
       "1                                 Google Data Analytics   \n",
       "2                            Google Project Management:   \n",
       "3                 Google Digital Marketing & E-commerce   \n",
       "4                                     Google IT Support   \n",
       "...                                                 ...   \n",
       "1134  Post Graduate Certificate in Cloud Computing A...   \n",
       "1135         Business Essentials University Certificate   \n",
       "1136  Post Graduate Certificate in Strategic Supply ...   \n",
       "1137  Power Electronics and Motors for Electric Vehi...   \n",
       "1138  Entrepreneurship and Strategic Innovation Grad...   \n",
       "\n",
       "                                                 skills  rating reviewcount  \\\n",
       "0     {\" Network Security\",\" Python Programming\",\" L...     4.8       16.4k   \n",
       "1     {\" Data Analysis\",\" R Programming\",\" SQL\",\" Bu...     4.8      133.4k   \n",
       "2     {\" Project Management\",\" Strategy and Operatio...     4.8       97.3k   \n",
       "3     {\" Digital Marketing\",\" Marketing\",\" Marketing...     4.8       21.4k   \n",
       "4     {\" Computer Networking\",\" Network Architecture...     4.8      181.4k   \n",
       "...                                                 ...     ...         ...   \n",
       "1134                                                NaN     NaN         NaN   \n",
       "1135  {\" Strategy and Operations\",\" Leadership and M...     NaN         NaN   \n",
       "1136  {\" Machine Learning\",\" Python Programming\",\" R...     NaN         NaN   \n",
       "1137                                                NaN     NaN         NaN   \n",
       "1138  {\" Accounting\",\" Finance\",\" General Statistics...     NaN         NaN   \n",
       "\n",
       "          level             certificatetype        duration  crediteligibility  \n",
       "0     Beginner    Professional Certificate     3 - 6 Months              False  \n",
       "1     Beginner    Professional Certificate     3 - 6 Months               True  \n",
       "2     Beginner    Professional Certificate     3 - 6 Months               True  \n",
       "3     Beginner    Professional Certificate     3 - 6 Months              False  \n",
       "4     Beginner    Professional Certificate     3 - 6 Months               True  \n",
       "...         ...                         ...             ...                ...  \n",
       "1134        NaN     University Certificate    6 - 12 Months              False  \n",
       "1135        NaN     University Certificate    6 - 12 Months              False  \n",
       "1136        NaN     University Certificate    6 - 12 Months              False  \n",
       "1137        NaN     University Certificate    6 - 12 Months              False  \n",
       "1138        NaN       Graduate Certificate    6 - 12 Months               True  \n",
       "\n",
       "[1139 rows x 9 columns]"
      ]
     },
     "execution_count": 2,
     "metadata": {},
     "output_type": "execute_result"
    }
   ],
   "source": [
    "\n",
    "raw_df = pd.read_csv('data/Coursera.csv')\n",
    "raw_df"
   ]
  },
  {
   "cell_type": "markdown",
   "metadata": {},
   "source": [
    "### *2.2 Khám phá dữ liệu* <a id=\"kpdl\"></a>"
   ]
  },
  {
   "cell_type": "markdown",
   "metadata": {},
   "source": [
    "#### Dữ liệu có bao nhiêu dòng và bao nhiêu cột? <a id=\"q1\"></a>"
   ]
  },
  {
   "cell_type": "code",
   "execution_count": 3,
   "metadata": {},
   "outputs": [
    {
     "name": "stdout",
     "output_type": "stream",
     "text": [
      "Number of rows:  1139\n",
      "Number of columns:  9\n"
     ]
    }
   ],
   "source": [
    "print(\"Number of rows: \",raw_df.shape[0])\n",
    "print(\"Number of columns: \",raw_df.shape[1])"
   ]
  },
  {
   "cell_type": "markdown",
   "metadata": {},
   "source": [
    "Dữ liệu có 1139 dòng và 9 cột, đạt yêu cầu về kích cỡ của tập dữ liệu"
   ]
  },
  {
   "cell_type": "markdown",
   "metadata": {},
   "source": [
    "#### - Ý nghĩa của từng dòng trong tập dữ liệu? <a id=\"q2\"></a>"
   ]
  },
  {
   "cell_type": "markdown",
   "metadata": {},
   "source": [
    "Mỗi dòng chứa thông tin của một khóa học cụ thể từ một nền tảng học trực tuyến"
   ]
  },
  {
   "cell_type": "markdown",
   "metadata": {},
   "source": [
    "#### - Có dòng nào bị trùng lặp hay không? <a id=\"q3\"></a>"
   ]
  },
  {
   "cell_type": "code",
   "execution_count": 4,
   "metadata": {},
   "outputs": [
    {
     "name": "stdout",
     "output_type": "stream",
     "text": [
      "Số dòng trùng lặp trong tập dữ liệu: 10\n"
     ]
    }
   ],
   "source": [
    "duplicate_count = raw_df.duplicated().sum()\n",
    "print (f\"Số dòng trùng lặp trong tập dữ liệu: {duplicate_count}\")"
   ]
  },
  {
   "cell_type": "markdown",
   "metadata": {},
   "source": [
    "Có 10 dòng trùng lặp trong tập dữ liệu, chúng ta sẽ tiến hành xóa chúng."
   ]
  },
  {
   "cell_type": "code",
   "execution_count": 5,
   "metadata": {},
   "outputs": [
    {
     "name": "stdout",
     "output_type": "stream",
     "text": [
      "Số dòng trùng lặp trong tập dữ liệu: 0\n"
     ]
    }
   ],
   "source": [
    "raw_df = raw_df.drop_duplicates()\n",
    "duplicate_count = raw_df.duplicated().sum()\n",
    "print (f\"Số dòng trùng lặp trong tập dữ liệu: {duplicate_count}\")"
   ]
  },
  {
   "cell_type": "markdown",
   "metadata": {},
   "source": [
    "#### - Từng cột trong tập dữ liệu có ý nghĩa gì? <a id=\"q4\"></a>"
   ]
  },
  {
   "cell_type": "markdown",
   "metadata": {},
   "source": [
    "- `parner`: đối tác tổ chức khóa học (Google, IBM,...)\n",
    "- `course`: tên khóa học\n",
    "- `skills`: tổng hợp các kĩ năng mà người học sẽ đạt được sau khóa học (Data Management,Market Analysis,...)\n",
    "- `rating`: đánh giá trung bình của khóa học do người học thực hiện (0-5)\n",
    "- `reviewcount`: số lượt đánh giá khóa học\n",
    "- `level`: đối tượng phù hợp với khóa học nhất (Beginner,...)\n",
    "- `certificatetype`: loại chứng chỉ mà người học được nhận khi kết thúc khóa học \n",
    "- `duration`: thời gian ước tính của khóa học\n",
    "- `crediteligibility`: khóa học có đủ điều kiện để được quy thành tín chỉ ở đại học hay không (True/False)"
   ]
  },
  {
   "cell_type": "markdown",
   "metadata": {},
   "source": [
    "#### - Kiểu dữ liệu của từng cột là gì? Có cột nào có kiểu dữ liệu không phù hợp không? <a id=\"q5\"></a>"
   ]
  },
  {
   "cell_type": "code",
   "execution_count": 6,
   "metadata": {},
   "outputs": [
    {
     "name": "stdout",
     "output_type": "stream",
     "text": [
      "partner               object\n",
      "course                object\n",
      "skills                object\n",
      "rating               float64\n",
      "reviewcount           object\n",
      "level                 object\n",
      "certificatetype       object\n",
      "duration              object\n",
      "crediteligibility       bool\n",
      "dtype: object\n"
     ]
    }
   ],
   "source": [
    "print (raw_df.dtypes)"
   ]
  },
  {
   "cell_type": "markdown",
   "metadata": {},
   "source": [
    "Ta nhận thấy, cột `reviewcount` nên có kiểu dữ liệu là kiểu số thay vì object, nên ta sẽ tiến hành thay đổi nó. Nhưng trước tiên, vì giá trị số của cột đang tồn tại ở dạng đặc biệt (ví dụ: 100k) nên ta cần chuẩn hóa nó trước khi chuyển đổi kiểu dữ liệu"
   ]
  },
  {
   "cell_type": "code",
   "execution_count": 7,
   "metadata": {},
   "outputs": [
    {
     "name": "stdout",
     "output_type": "stream",
     "text": [
      "\n",
      "Kiểu dữ liệu sau khi chuẩn hóa:\n",
      "float64\n",
      "0        16400.0\n",
      "1       133400.0\n",
      "2        97300.0\n",
      "3        21400.0\n",
      "4       181400.0\n",
      "          ...   \n",
      "1134         NaN\n",
      "1135         NaN\n",
      "1136         NaN\n",
      "1137         NaN\n",
      "1138         NaN\n",
      "Name: reviewcount, Length: 1129, dtype: float64\n"
     ]
    }
   ],
   "source": [
    "def convert_to_number(value):\n",
    "    if isinstance(value, str): \n",
    "        value = value.strip() \n",
    "        if 'k' in value.lower():  \n",
    "            return float(value.lower().replace('k', '')) * 1000\n",
    "        else:\n",
    "            return float(value)  \n",
    "    return value \n",
    "\n",
    "raw_df['reviewcount'] = raw_df['reviewcount'].apply(convert_to_number)\n",
    "raw_df['reviewcount'] = pd.to_numeric(raw_df['reviewcount'], errors='coerce')\n",
    "\n",
    "print(\"\\nKiểu dữ liệu sau khi chuẩn hóa:\")\n",
    "print(raw_df['reviewcount'].dtypes)\n",
    "print (raw_df['reviewcount'])"
   ]
  },
  {
   "cell_type": "markdown",
   "metadata": {},
   "source": [
    "Có vẻ các cột dữ liệu đều có kiểu dữ liệu phù hợp với ý nghĩa của nó"
   ]
  },
  {
   "cell_type": "markdown",
   "metadata": {},
   "source": [
    "#### - Đối với các cột số, tỷ lệ phần trăm giá trị thiếu bằng bao nhiêu? Giá trị lớn nhất và nhỏ nhất là? <a id=\"q6\"></a>"
   ]
  },
  {
   "cell_type": "code",
   "execution_count": 8,
   "metadata": {},
   "outputs": [],
   "source": [
    "def analyze_numerical_columns(df):\n",
    "    def find_outliers(series):\n",
    "        q1 = series.quantile(0.25)  \n",
    "        q3 = series.quantile(0.75)  \n",
    "        iqr = q3 - q1               \n",
    "        lower_bound = q1 - 1.5 * iqr  \n",
    "        upper_bound = q3 + 1.5 * iqr  \n",
    "\n",
    "        outliers = series[(series < lower_bound) | (series > upper_bound)]\n",
    "        return outliers\n",
    "\n",
    "    numerical_columns = df.select_dtypes(include=['number']).columns \n",
    "    analysis_results = []\n",
    "    outliers_dict = {}  \n",
    "\n",
    "    for col in numerical_columns:\n",
    "        col_data = df[col]\n",
    "        missing_percentage = col_data.isna().mean() * 100\n",
    "        col_min = col_data.min()\n",
    "        col_max = col_data.max()\n",
    "        description = col_data.describe()\n",
    "\n",
    "        outliers = find_outliers(col_data)\n",
    "        outliers_dict[col] = outliers\n",
    "\n",
    "        analysis_results.append({\n",
    "            'Column': col,\n",
    "            'Missing (%)': missing_percentage,\n",
    "            'Min': col_min,\n",
    "            'Max': col_max,\n",
    "            'Outliers Count': len(outliers),\n",
    "            'Outliers Percentage (%)': len(outliers) / len(col_data.dropna()) * 100,\n",
    "        })\n",
    "\n",
    "    return pd.DataFrame(analysis_results), outliers_dict\n"
   ]
  },
  {
   "cell_type": "code",
   "execution_count": 9,
   "metadata": {},
   "outputs": [
    {
     "name": "stdout",
     "output_type": "stream",
     "text": [
      "Phân tích cột có dạng số: \n",
      "        Column  Missing (%)  Min       Max  Outliers Count  \\\n",
      "0       rating    12.046058  2.8       5.0              24   \n",
      "1  reviewcount    12.046058  6.0  268600.0             141   \n",
      "\n",
      "   Outliers Percentage (%)  \n",
      "0                 2.416918  \n",
      "1                14.199396  \n",
      "\n",
      "Giá trị bất thường:\n",
      "Cột 'rating':\n",
      "224    4.0\n",
      "312    4.2\n",
      "321    3.3\n",
      "344    3.9\n",
      "351    3.9\n",
      "358    4.2\n",
      "399    4.0\n",
      "456    3.9\n",
      "490    4.2\n",
      "559    2.8\n",
      "570    3.9\n",
      "617    4.0\n",
      "640    4.2\n",
      "667    4.2\n",
      "722    3.7\n",
      "777    4.0\n",
      "819    4.2\n",
      "822    4.2\n",
      "852    4.2\n",
      "867    4.0\n",
      "906    3.2\n",
      "937    2.9\n",
      "970    3.9\n",
      "999    4.2\n",
      "Name: rating, dtype: float64\n",
      "Cột 'reviewcount':\n",
      "0       16400.0\n",
      "1      133400.0\n",
      "2       97300.0\n",
      "3       21400.0\n",
      "4      181400.0\n",
      "         ...   \n",
      "787     18800.0\n",
      "877     13900.0\n",
      "910     26800.0\n",
      "916     22400.0\n",
      "920     13600.0\n",
      "Name: reviewcount, Length: 141, dtype: float64\n"
     ]
    }
   ],
   "source": [
    "results, outliers = analyze_numerical_columns(raw_df)\n",
    "print(\"Phân tích cột có dạng số: \")\n",
    "print(results)\n",
    "\n",
    "print(\"\\nGiá trị bất thường:\")\n",
    "for col, outlier_values in outliers.items():\n",
    "    print(f\"Cột '{col}':\")\n",
    "    print(outlier_values)"
   ]
  },
  {
   "cell_type": "markdown",
   "metadata": {},
   "source": [
    "Vậy cột có dạng số được phân tích ở đây là `rating` và `reviewcount`\n",
    "\n",
    "- Với cột `rating`, tỷ lệ thiếu giá trị đạt 12.04%, và đạt 24 giá trị outliers\n",
    "- Với cột `reviewcount`, tỷ lệ thiếu giá trị đạt 12.04%, và đạt 141 giá trị outliers"
   ]
  },
  {
   "cell_type": "markdown",
   "metadata": {},
   "source": [
    "#### - Đối với các cột category, tỷ lệ phần trăm giá trị thiếu bằng bao nhiêu? <a id=\"q7\"></a>"
   ]
  },
  {
   "cell_type": "code",
   "execution_count": 10,
   "metadata": {},
   "outputs": [],
   "source": [
    "def missing_percentage_categorical(df):\n",
    "    \n",
    "    categorical_columns = df.select_dtypes(include=['object', 'category']).columns\n",
    "    \n",
    "    missing_percentages = {}\n",
    "    for col in categorical_columns:\n",
    "        missing_percentages[col] = df[col].isna().mean() * 100\n",
    "        \n",
    "    result_df = pd.DataFrame({\n",
    "        \"Column\": list(missing_percentages.keys()),\n",
    "        \"Missing (%)\": list(missing_percentages.values())\n",
    "    })\n",
    "    \n",
    "    return result_df\n"
   ]
  },
  {
   "cell_type": "code",
   "execution_count": 11,
   "metadata": {},
   "outputs": [
    {
     "name": "stdout",
     "output_type": "stream",
     "text": [
      "            Column  Missing (%)\n",
      "0          partner     0.000000\n",
      "1           course     0.000000\n",
      "2           skills     4.517272\n",
      "3            level    11.160319\n",
      "4  certificatetype     1.151461\n",
      "5         duration     1.151461\n"
     ]
    }
   ],
   "source": [
    "print (missing_percentage_categorical(raw_df))"
   ]
  },
  {
   "cell_type": "markdown",
   "metadata": {},
   "source": [
    "Như vậy, cột `partner` và cột `course` không có giá trị thiếu, cột đạt tỷ lệ giá trị thiếu cao nhất là cột `reviewcount`"
   ]
  },
  {
   "cell_type": "markdown",
   "metadata": {},
   "source": [
    "#### - Mỗi cột như vậy có bao nhiêu giá trị phân biệt, nêu một vài giá trị mẫu?"
   ]
  },
  {
   "cell_type": "code",
   "execution_count": 12,
   "metadata": {},
   "outputs": [],
   "source": [
    "def analyze_categorical_columns(df):\n",
    "\n",
    "    categorical_columns = df.select_dtypes(include=['object', 'category']).columns\n",
    "    results = []\n",
    "    \n",
    "    for col in categorical_columns:\n",
    "        unique_count = df[col].nunique()               \n",
    "        sample_values = df[col].dropna().unique()[:]\n",
    "        \n",
    "        results.append({\n",
    "            'Column': col,\n",
    "            'Unique Values Count': unique_count,\n",
    "            'Sample Values': sample_values\n",
    "        })\n",
    "    \n",
    "    result_df = pd.DataFrame(results)\n",
    "    return result_df\n"
   ]
  },
  {
   "cell_type": "code",
   "execution_count": 13,
   "metadata": {},
   "outputs": [
    {
     "name": "stdout",
     "output_type": "stream",
     "text": [
      "            Column  Unique Values Count  \\\n",
      "0          partner                  180   \n",
      "1           course                 1106   \n",
      "2           skills                  977   \n",
      "3            level                    7   \n",
      "4  certificatetype                    9   \n",
      "5         duration                   36   \n",
      "\n",
      "                                       Sample Values  \n",
      "0  [Google, IBM, Multiple educators, DeepLearning...  \n",
      "1  [Google Cybersecurity, Google Data Analytics, ...  \n",
      "2  [{\" Network Security\",\" Python Programming\",\" ...  \n",
      "3  [Beginner , Intermediate , Advanced , Mixed , ...  \n",
      "4  [ Professional Certificate ,  Specialization ,...  \n",
      "5  [ 3 - 6 Months,  1 - 3 Months,  1 - 4 Weeks,  ...  \n"
     ]
    }
   ],
   "source": [
    "print (analyze_categorical_columns(raw_df))"
   ]
  },
  {
   "cell_type": "markdown",
   "metadata": {},
   "source": [
    "#### - Liệu có giá trị nào bất thường hay không?"
   ]
  },
  {
   "cell_type": "code",
   "execution_count": 14,
   "metadata": {},
   "outputs": [],
   "source": [
    "def abnormal_values_all_columns(df):\n",
    "    categorical_columns = df.select_dtypes(include=['object', 'category']).columns\n",
    "    abnormal_values_dict = {}\n",
    "    \n",
    "    for col in categorical_columns:\n",
    "        abnormal_values = df[df[col].isna() | (df[col].str.strip() == '')][col]\n",
    "        \n",
    "        if not abnormal_values.empty:\n",
    "            abnormal_values_dict[col] = abnormal_values.unique()\n",
    "    \n",
    "    return abnormal_values_dict"
   ]
  },
  {
   "cell_type": "code",
   "execution_count": 15,
   "metadata": {},
   "outputs": [
    {
     "name": "stdout",
     "output_type": "stream",
     "text": [
      "- skills: [nan]\n",
      "- level: [nan]\n",
      "- certificatetype: [nan]\n",
      "- duration: [nan]\n"
     ]
    }
   ],
   "source": [
    "abnormal = abnormal_values_all_columns(raw_df)\n",
    "for column, values in abnormal.items():\n",
    "    print(f\"- {column}: {values}\")"
   ]
  },
  {
   "cell_type": "markdown",
   "metadata": {},
   "source": [
    "Như vậy, tất cả các giá trị bất thường trong các cột category đều là các giá trị bị thiếu."
   ]
  },
  {
   "cell_type": "markdown",
   "metadata": {},
   "source": [
    "## **3 Hoàn tất tiền xử lý và khám phá dữ liệu, lưu lại dữ liệu đã qua xử lý thành file .csv** <a id=\"stf\"></a>"
   ]
  },
  {
   "cell_type": "code",
   "execution_count": 16,
   "metadata": {},
   "outputs": [],
   "source": [
    "raw_df.to_csv('data/processed_data.csv')"
   ]
  }
 ],
 "metadata": {
  "kernelspec": {
   "display_name": "Python 3",
   "language": "python",
   "name": "python3"
  },
  "language_info": {
   "codemirror_mode": {
    "name": "ipython",
    "version": 3
   },
   "file_extension": ".py",
   "mimetype": "text/x-python",
   "name": "python",
   "nbconvert_exporter": "python",
   "pygments_lexer": "ipython3",
   "version": "3.12.4"
  }
 },
 "nbformat": 4,
 "nbformat_minor": 2
}
